{
 "cells": [
  {
   "cell_type": "code",
   "execution_count": 1,
   "metadata": {},
   "outputs": [
    {
     "name": "stderr",
     "output_type": "stream",
     "text": [
      "Could not find GLIMDA.\n"
     ]
    }
   ],
   "source": [
    "%matplotlib inline\n",
    "\n",
    "import numpy as np\n",
    "import matplotlib.pyplot as plt\n",
    "from modelbase.ode import Model, Simulator, mca"
   ]
  },
  {
   "cell_type": "code",
   "execution_count": 2,
   "metadata": {},
   "outputs": [],
   "source": [
    "import math"
   ]
  },
  {
   "cell_type": "code",
   "execution_count": 3,
   "metadata": {},
   "outputs": [],
   "source": [
    "#set parameters\n",
    "p = {    \n",
    "    # fixed concentrations (in mM)\n",
    "    'NAD': 0.05,\n",
    "    'NADH': 0.00002,\n",
    "    'Glc': 5,\n",
    "    'Pi': 1,\n",
    "    'Lac':1.4,\n",
    "    \n",
    "    # standard Gibbs-energies of formation of all compounds (in kj/mol) for pH=7.2 and 298.15K (source: equilibrator)\n",
    "    'dGf0_Glc': -412.8,\n",
    "    'dGf0_P13G': -2201.8,\n",
    "    'dGf0_PEP': -1191.4,\n",
    "    'dGf0_Pyr': -343.3,\n",
    "    'dGf0_P23G': -2239.4,\n",
    "    'dGf0_ATP': -2284.2,\n",
    "    'dGf0_ADP': -1409.4,\n",
    "    'dGf0_AMP': -534.8,\n",
    "    'dGf0_H2O': -154.4,\n",
    "    'dGf0_NAD': -1173.5,\n",
    "    'dGf0_NADH': -1108.9,\n",
    "    'dGf0_Pi': -1057.3,\n",
    "    'dGf0_Lac': -304.2,\n",
    "    \n",
    "    # parameters for the calculation of the Keq-values\n",
    "    'R': 0.008314,   # ideal gas constant [kJ mol^-1 K^-1]  \n",
    "    'T': 298.15,     # temperature in K (25°C). Assumed for dGf0-values on eQuilibrator\n",
    "    'e': math.e,     # euler's number\n",
    "    \n",
    "    # parameters for calculation of new kcat values for the HK-PFK and PK-LDH\n",
    "    'J': 1.25,             # mM/h\n",
    "    'ATP_ss': 1.2,         # mM\n",
    "    'ADP_ss': 0.22,        # mM\n",
    "    'P13G_ss': 0.0005,     # mM\n",
    "    'PEP_ss': 0.02,        # mM\n",
    "    'Lac_ss': 1.4,         # mM\n",
    "    'k_I_ATP': 1,          # mM\n",
    "    'nH': 4,               # dimensionless\n",
    "    \n",
    "    # kcat values for the other reactions [h^-1]\n",
    "    'k_P2GM': 1500,\n",
    "    'k_P2Gase': 0.15,\n",
    "    'k_PGK': 1.57*10**4,  \n",
    "    'k_ATPase': 1.46,\n",
    "    'k_AK_fwd': 4.0,\n",
    "    'k_AK_bwd': 2.0,\n",
    "\n",
    "}"
   ]
  },
  {
   "cell_type": "code",
   "execution_count": 4,
   "metadata": {},
   "outputs": [],
   "source": [
    "#set compounds\n",
    "compounds = {\n",
    "    'ATP',\n",
    "    'ADP',\n",
    "    'P13G',\n",
    "    'P23G',\n",
    "    'PEP',\n",
    "    'AMP',\n",
    "}"
   ]
  },
  {
   "cell_type": "code",
   "execution_count": 5,
   "metadata": {},
   "outputs": [],
   "source": [
    "#Instantiate model\n",
    "m = Model(parameters = p, compounds = compounds)\n"
   ]
  },
  {
   "cell_type": "code",
   "execution_count": 6,
   "metadata": {},
   "outputs": [],
   "source": [
    "# calculate standard Gibbs-energies of reaction of all lumped reactions and add them as derived parameters: \n",
    "# sum of all dGf0 of the products - sum of all dGf0 of substrates (netto)\n",
    "\n",
    "m.add_derived_parameter(\n",
    "    parameter_name='dGr0_HK_PFK', function=lambda Glc, ATP, NAD, Pi, P13G, ADP, NADH: (2*P13G + 2*ADP + 2*NADH) - (Glc + 2*ATP + 2*NAD + 2*Pi),\n",
    "    parameters=['dGf0_Glc', 'dGf0_ATP', 'dGf0_NAD', 'dGf0_Pi', 'dGf0_P13G', 'dGf0_ADP', 'dGf0_NADH']\n",
    ")\n",
    "\n",
    "m.add_derived_parameter(\n",
    "    parameter_name='dGr0_P2GM', function=lambda P13G, P23G: P23G - P13G, \n",
    "    parameters=['dGf0_P13G', 'dGf0_P23G']\n",
    ")\n",
    "\n",
    "m.add_derived_parameter(\n",
    "    parameter_name='dGr0_PGK', function=lambda P13G, ADP, PEP, ATP, H2O: (PEP+ATP+H2O) - (P13G+ADP),\n",
    "    parameters=['dGf0_P13G', 'dGf0_ADP', 'dGf0_PEP', 'dGf0_ATP', 'dGf0_H2O']\n",
    ")\n",
    "\n",
    "m.add_derived_parameter(\n",
    "    parameter_name='dGr0_PK', function=lambda PEP, ADP, Pyr, ATP: (Pyr+ATP) - (PEP+ADP),\n",
    "    parameters=['dGf0_PEP', 'dGf0_ADP', 'dGf0_Pyr', 'dGf0_ATP']\n",
    ")\n",
    "\n",
    "m.add_derived_parameter(\n",
    "    parameter_name='dGr0_ATPase', function=lambda ATP, H2O, ADP, Pi: (ADP+Pi) - (ATP+H2O),\n",
    "    parameters=['dGf0_ATP','dGf0_H2O', 'dGf0_ADP', 'dGf0_Pi']\n",
    ")\n",
    "\n",
    "m.add_derived_parameter(\n",
    "    parameter_name='dGr0_P2Gase', function=lambda P23G, PEP, Pi: (PEP+Pi) - P23G,\n",
    "    parameters=['dGf0_P23G', 'dGf0_PEP', 'dGf0_Pi']\n",
    ")\n",
    "\n",
    "m.add_derived_parameter(\n",
    "    parameter_name='dGr0_PK_LDH', function=lambda PEP, ADP, NADH, Lac, ATP, NAD: (Lac+ATP+NAD) - (PEP + ADP + NADH),\n",
    "    parameters=['dGf0_PEP', 'dGf0_ADP', 'dGf0_NADH', 'dGf0_Lac', 'dGf0_ATP', 'dGf0_NAD']\n",
    ")\n",
    "\n",
    "m.add_derived_parameter(\n",
    "    parameter_name='dGr0_AK', function=lambda ATP, AMP, ADP: 2*ADP - (ATP+AMP),\n",
    "    parameters=['dGf0_ATP', 'dGf0_AMP', 'dGf0_ADP']\n",
    ")\n",
    "\n"
   ]
  },
  {
   "cell_type": "code",
   "execution_count": 7,
   "metadata": {},
   "outputs": [],
   "source": [
    "# calculate all Keq' values, based on the standard Gibbs-energies of reaction\n",
    "# Keq = e^(-dG0/RT)    R = 8.314 J mol^-1 K^-1 or 0.008314 kJ mol^-1 K^-1,   T = 298.15 K (25°C)\n",
    "\n",
    "m.add_derived_parameter(\n",
    "    parameter_name='Keq_HK_PFK', function=lambda R, T, e, dGr0_HK_PFK: e**(-((dGr0_HK_PFK)/(R*T))),\n",
    "    parameters=['R', 'T', 'e', 'dGr0_HK_PFK']\n",
    ")\n",
    "\n",
    "m.add_derived_parameter(\n",
    "    parameter_name='Keq_P2GM', function=lambda R, T, e, dGr0_P2GM: e**(-((dGr0_P2GM)/(R*T))),\n",
    "    parameters=['R', 'T', 'e', 'dGr0_P2GM']\n",
    ")\n",
    "\n",
    "m.add_derived_parameter(\n",
    "    parameter_name='Keq_PGK', function=lambda R, T, e, dGr0_PGK: e**(-((dGr0_PGK)/(R*T))),\n",
    "    parameters=['R', 'T', 'e', 'dGr0_PGK']\n",
    ")\n",
    "\n",
    "m.add_derived_parameter(\n",
    "    parameter_name='Keq_PK', function=lambda R, T, e, dGr0_PK: e**(-((dGr0_PK)/(R*T))),\n",
    "    parameters=['R', 'T', 'e', 'dGr0_PK']\n",
    ")\n",
    "\n",
    "m.add_derived_parameter(\n",
    "    parameter_name='Keq_ATPase', function=lambda R, T, e, dGr0_ATPase: e**(-((dGr0_ATPase)/(R*T))),\n",
    "    parameters=['R', 'T', 'e', 'dGr0_ATPase']\n",
    ")\n",
    "\n",
    "m.add_derived_parameter(\n",
    "    parameter_name='Keq_P2Gase', function=lambda R, T, e, dGr0_P2Gase: e**(-((dGr0_P2Gase)/(R*T))),\n",
    "    parameters=['R', 'T', 'e', 'dGr0_P2Gase']\n",
    ")\n",
    "\n",
    "m.add_derived_parameter(\n",
    "    parameter_name='Keq_PK_LDH', function=lambda R, T, e, dGr0_PK_LDH: e**(-((dGr0_PK_LDH)/(R*T))),\n",
    "    parameters=['R', 'T', 'e', 'dGr0_PK_LDH']\n",
    ")\n",
    "\n",
    "m.add_derived_parameter(\n",
    "    parameter_name='Keq_AK', function=lambda R, T, e, dGr0_AK: e**(-((dGr0_AK)/(R*T))),\n",
    "    parameters=['R', 'T', 'e', 'dGr0_AK']\n",
    ")\n"
   ]
  },
  {
   "cell_type": "code",
   "execution_count": 8,
   "metadata": {},
   "outputs": [],
   "source": [
    "# calculation of a new value for k_HK-PFK: same procedure as for k_PK_LDH as explained in subsection 2.2\n",
    "\n",
    "m.add_derived_parameter(\n",
    "    parameter_name='k_HK_PFK', function=lambda J, ATP_ss, k_I_ATP, nH, Glc, NAD, Pi, P13G_ss, ADP_ss, NADH, Keq_HK_PFK: \n",
    "    (J * (ATP_ss/k_I_ATP)**nH + J) / (Glc * ATP_ss**2 * NAD**2 * Pi**2 - (P13G_ss**2 * ADP_ss**2 * NADH**2)/Keq_HK_PFK),\n",
    "    parameters=['J', 'ATP_ss', 'k_I_ATP', 'nH', 'Glc', 'NAD', 'Pi', 'P13G_ss', 'ADP_ss', 'NADH', 'Keq_HK_PFK']\n",
    ")\n"
   ]
  },
  {
   "cell_type": "code",
   "execution_count": 9,
   "metadata": {},
   "outputs": [],
   "source": [
    "# calculation of a new value for k_PK-LDH as explained in subsection 2.2\n",
    "\n",
    "m.add_derived_parameter(\n",
    "    parameter_name='k_PK_LDH', function=lambda J, PEP_ss, ADP_ss, NADH, Lac_ss, ATP_ss, NAD, Keq_PK_LDH: \n",
    "    2*J / (PEP_ss * ADP_ss * NADH - ((Lac_ss * ATP_ss * NAD)/Keq_PK_LDH)),\n",
    "    parameters=['J', 'PEP_ss', 'ADP_ss', 'NADH', 'Lac_ss', 'ATP_ss', 'NAD', 'Keq_PK_LDH']\n",
    ")"
   ]
  },
  {
   "cell_type": "code",
   "execution_count": 10,
   "metadata": {},
   "outputs": [
    {
     "data": {
      "text/plain": [
       "{'NAD': 0.05,\n",
       " 'NADH': 2e-05,\n",
       " 'Glc': 5,\n",
       " 'Pi': 1,\n",
       " 'Lac': 1.4,\n",
       " 'dGf0_Glc': -412.8,\n",
       " 'dGf0_P13G': -2201.8,\n",
       " 'dGf0_PEP': -1191.4,\n",
       " 'dGf0_Pyr': -343.3,\n",
       " 'dGf0_P23G': -2239.4,\n",
       " 'dGf0_ATP': -2284.2,\n",
       " 'dGf0_ADP': -1409.4,\n",
       " 'dGf0_AMP': -534.8,\n",
       " 'dGf0_H2O': -154.4,\n",
       " 'dGf0_NAD': -1173.5,\n",
       " 'dGf0_NADH': -1108.9,\n",
       " 'dGf0_Pi': -1057.3,\n",
       " 'dGf0_Lac': -304.2,\n",
       " 'R': 0.008314,\n",
       " 'T': 298.15,\n",
       " 'e': 2.718281828459045,\n",
       " 'J': 1.25,\n",
       " 'ATP_ss': 1.2,\n",
       " 'ADP_ss': 0.22,\n",
       " 'P13G_ss': 0.0005,\n",
       " 'PEP_ss': 0.02,\n",
       " 'Lac_ss': 1.4,\n",
       " 'k_I_ATP': 1,\n",
       " 'nH': 4,\n",
       " 'k_P2GM': 1500,\n",
       " 'k_P2Gase': 0.15,\n",
       " 'k_PGK': 15700.0,\n",
       " 'k_ATPase': 1.46,\n",
       " 'k_AK_fwd': 4.0,\n",
       " 'k_AK_bwd': 2.0,\n",
       " 'dGr0_HK_PFK': 2.599999999998545,\n",
       " 'dGr0_P2GM': -37.59999999999991,\n",
       " 'dGr0_PGK': -18.799999999999727,\n",
       " 'dGr0_PK': -26.699999999999818,\n",
       " 'dGr0_ATPase': -28.09999999999991,\n",
       " 'dGr0_P2Gase': -9.299999999999727,\n",
       " 'dGr0_PK_LDH': -52.19999999999936,\n",
       " 'dGr0_AK': 0.1999999999998181,\n",
       " 'Keq_HK_PFK': 0.35032760626062526,\n",
       " 'Keq_P2GM': 3869025.032497049,\n",
       " 'Keq_PGK': 1966.983739764094,\n",
       " 'Keq_PK': 47631.899590101515,\n",
       " 'Keq_ATPase': 83787.82902776597,\n",
       " 'Keq_P2Gase': 42.59711320125074,\n",
       " 'Keq_PK_LDH': 1398148178.5832727,\n",
       " 'Keq_AK': 0.9224855378306909,\n",
       " 'k_HK_PFK': 213.44444444444457,\n",
       " 'k_PK_LDH': 28428499.649548963}"
      ]
     },
     "execution_count": 10,
     "metadata": {},
     "output_type": "execute_result"
    }
   ],
   "source": [
    "# show all parameters\n",
    "m.get_parameters()"
   ]
  },
  {
   "cell_type": "code",
   "execution_count": 11,
   "metadata": {},
   "outputs": [],
   "source": [
    "#define rate equations and add reactions \n",
    "\n",
    "def v_HK_PFK(ATP, P13G, ADP, k_HK_PFK, Glc, NAD, Pi, NADH, k_I_ATP, nH, Keq_HK_PFK):    \n",
    "    v = k_HK_PFK * ((Glc * NAD**2 * Pi**2 * ATP**2) - (P13G**2 * ADP**2 * NADH**2)/Keq_HK_PFK) /(1+(ATP/k_I_ATP)**nH)\n",
    "    return v\n",
    "\n",
    "m.add_reaction(\n",
    "    rate_name = 'v_HK_PFK',\n",
    "    function = v_HK_PFK,\n",
    "    stoichiometry = {'ATP': -2, 'ADP': 2, 'P13G': 2},\n",
    "    modifiers = None,\n",
    "    parameters = ['k_HK_PFK', 'Glc', 'NAD', 'Pi', 'NADH', 'k_I_ATP','nH', 'Keq_HK_PFK'],\n",
    "    reversible = True,\n",
    ")\n",
    "\n",
    "\n",
    "def v_P2GM(P13G, P23G, k_P2GM, Keq_P2GM):\n",
    "    v = k_P2GM * (P13G - P23G/Keq_P2GM) \n",
    "    return v\n",
    "\n",
    "m.add_reaction(\n",
    "    rate_name = 'v_P2GM',\n",
    "    function = v_P2GM,\n",
    "    stoichiometry = {'P13G': -1, 'P23G': 1},\n",
    "    modifiers = None,\n",
    "    parameters = ['k_P2GM', 'Keq_P2GM'],\n",
    "    reversible = True,\n",
    ")\n",
    "\n",
    "def v_P2Gase(P23G, PEP, k_P2Gase, Keq_P2Gase):\n",
    "    v = k_P2Gase * (P23G - (PEP/Keq_P2Gase))   \n",
    "    return v\n",
    "\n",
    "m.add_reaction(\n",
    "    rate_name = 'v_P2Gase',\n",
    "    function = v_P2Gase,\n",
    "    stoichiometry = {'P23G': -1, 'PEP': 1},\n",
    "    modifiers = None,\n",
    "    parameters = ['k_P2Gase', 'Keq_P2Gase'],\n",
    "    reversible = True,\n",
    ")\n",
    "\n",
    "def v_PGK(P13G, ADP, PEP, ATP, k_PGK, Keq_PGK):\n",
    "    v = k_PGK * ((P13G*ADP)-((PEP*ATP)/Keq_PGK))  \n",
    "    return v\n",
    "\n",
    "m.add_reaction(\n",
    "    rate_name = 'v_PGK',\n",
    "    function = v_PGK,\n",
    "    stoichiometry = {'P13G': -1, 'ADP': -1, 'PEP': 1, 'ATP': 1},\n",
    "    modifiers = None,\n",
    "    parameters = ['k_PGK', 'Keq_PGK'],\n",
    "    reversible = True,\n",
    ")\n",
    "\n",
    "def v_PK_LDH(PEP, ADP, ATP, k_PK_LDH, NADH, Lac, NAD, Keq_PK_LDH):\n",
    "    v = k_PK_LDH * ((PEP*ADP*NADH)-(Lac*ATP*NAD/Keq_PK_LDH))\n",
    "    return v\n",
    "\n",
    "m.add_reaction(\n",
    "    rate_name = 'v_PK_LDH',\n",
    "    function = v_PK_LDH,\n",
    "    stoichiometry = {'PEP': -1, 'ADP': -1, 'ATP': 1},\n",
    "    modifiers = None,\n",
    "    parameters = ['k_PK_LDH', 'NADH', 'Lac', 'NAD', 'Keq_PK_LDH'],  \n",
    "    reversible = True,\n",
    ")\n",
    "\n",
    "def v_AK(AMP, ATP, ADP, k_AK_fwd, Keq_AK):\n",
    "    v = k_AK_fwd * ((AMP * ATP)-(ADP**2 / Keq_AK))\n",
    "    return v\n",
    "\n",
    "m.add_reaction(\n",
    "    rate_name = 'v_AK',\n",
    "    function = v_AK,\n",
    "    stoichiometry = {'AMP': -1, 'ATP': -1, 'ADP': 2},\n",
    "    modifiers = None,\n",
    "    parameters = ['k_AK_fwd', 'Keq_AK'],\n",
    "    reversible = True,\n",
    ")\n",
    "\n",
    "def v_ATPase(ATP, ADP, Pi, k_ATPase, Keq_ATPase):\n",
    "    v = k_ATPase * (ATP-(ADP*Pi/Keq_ATPase))\n",
    "    return v\n",
    "\n",
    "m.add_reaction(\n",
    "    rate_name = 'v_ATPase',\n",
    "    function = v_ATPase,\n",
    "    stoichiometry = {'ATP': -1, 'ADP': 1},\n",
    "    modifiers = None,\n",
    "    parameters = ['Pi', 'k_ATPase', 'Keq_ATPase'], \n",
    "    reversible = True,\n",
    ")"
   ]
  },
  {
   "cell_type": "code",
   "execution_count": 12,
   "metadata": {},
   "outputs": [],
   "source": [
    "#set initial values\n",
    "y0 = {\n",
    "    'P13G': 0.005,\n",
    "    'P23G': 5.0,\n",
    "    'PEP': 0.02,\n",
    "    'AMP': 0.5,\n",
    "    'ADP': 0.9,\n",
    "    'ATP': 0.1 ,\n",
    "}\n"
   ]
  },
  {
   "cell_type": "code",
   "execution_count": 13,
   "metadata": {},
   "outputs": [
    {
     "data": {
      "image/png": "[encoded data removed]",
      "text/plain": [
       "<Figure size 720x504 with 1 Axes>"
      ]
     },
     "metadata": {
      "needs_background": "light"
     },
     "output_type": "display_data"
    }
   ],
   "source": [
    "s = Simulator(m)\n",
    "s.initialise(y0)\n",
    "t, y = s.simulate(t_end=200, steps=1000)\n",
    "fig, ax = s.plot(xlabel='time [au]', ylabel='concentration [mM]')\n",
    "plt.show()"
   ]
  },
  {
   "cell_type": "code",
   "execution_count": 14,
   "metadata": {},
   "outputs": [
    {
     "name": "stdout",
     "output_type": "stream",
     "text": [
      "P13G:  0.00050 [au]\n",
      "PEP :  0.01793 [au]\n",
      "AMP :  0.05438 [au]\n",
      "P23G:  4.98224 [au]\n",
      "ADP :  0.24537 [au]\n",
      "ATP :  1.20025 [au]\n"
     ]
    }
   ],
   "source": [
    "t_ss, y_ss = s.simulate_to_steady_state()\n",
    "\n",
    "compounds_list = m.get_compounds()\n",
    "\n",
    "summe = 0\n",
    "\n",
    "for i in range(len(compounds_list)):\n",
    "    print('{comp:<4s}:  {value:.5f} [au]'.format(comp = compounds_list[i], value = y_ss[0, i]))"
   ]
  },
  {
   "cell_type": "code",
   "execution_count": 15,
   "metadata": {},
   "outputs": [
    {
     "data": {
      "text/html": [
       "<div>\n",
       "<style scoped>\n",
       "    .dataframe tbody tr th:only-of-type {\n",
       "        vertical-align: middle;\n",
       "    }\n",
       "\n",
       "    .dataframe tbody tr th {\n",
       "        vertical-align: top;\n",
       "    }\n",
       "\n",
       "    .dataframe thead th {\n",
       "        text-align: right;\n",
       "    }\n",
       "</style>\n",
       "<table border=\"1\" class=\"dataframe\">\n",
       "  <thead>\n",
       "    <tr style=\"text-align: right;\">\n",
       "      <th></th>\n",
       "      <th>v_HK_PFK</th>\n",
       "      <th>v_P2GM</th>\n",
       "      <th>v_P2Gase</th>\n",
       "      <th>v_PGK</th>\n",
       "      <th>v_PK_LDH</th>\n",
       "      <th>v_AK</th>\n",
       "      <th>v_ATPase</th>\n",
       "    </tr>\n",
       "  </thead>\n",
       "  <tbody>\n",
       "    <tr>\n",
       "      <th>0.0</th>\n",
       "      <td>0.026678</td>\n",
       "      <td>7.498062</td>\n",
       "      <td>0.749930</td>\n",
       "      <td>70.634036</td>\n",
       "      <td>10.234118</td>\n",
       "      <td>-3.312250e+00</td>\n",
       "      <td>0.145984</td>\n",
       "    </tr>\n",
       "    <tr>\n",
       "      <th>0.2</th>\n",
       "      <td>0.415315</td>\n",
       "      <td>0.145530</td>\n",
       "      <td>0.730280</td>\n",
       "      <td>0.684772</td>\n",
       "      <td>1.403905</td>\n",
       "      <td>1.337436e-01</td>\n",
       "      <td>0.583313</td>\n",
       "    </tr>\n",
       "    <tr>\n",
       "      <th>0.4</th>\n",
       "      <td>0.594841</td>\n",
       "      <td>0.221351</td>\n",
       "      <td>0.714190</td>\n",
       "      <td>0.968107</td>\n",
       "      <td>1.676361</td>\n",
       "      <td>3.564392e-01</td>\n",
       "      <td>0.708194</td>\n",
       "    </tr>\n",
       "    <tr>\n",
       "      <th>0.6</th>\n",
       "      <td>0.776975</td>\n",
       "      <td>0.293205</td>\n",
       "      <td>0.700658</td>\n",
       "      <td>1.260489</td>\n",
       "      <td>1.954200</td>\n",
       "      <td>3.974461e-01</td>\n",
       "      <td>0.827533</td>\n",
       "    </tr>\n",
       "    <tr>\n",
       "      <th>0.8</th>\n",
       "      <td>0.977512</td>\n",
       "      <td>0.378916</td>\n",
       "      <td>0.689851</td>\n",
       "      <td>1.575802</td>\n",
       "      <td>2.257269</td>\n",
       "      <td>4.163105e-01</td>\n",
       "      <td>0.964072</td>\n",
       "    </tr>\n",
       "    <tr>\n",
       "      <th>...</th>\n",
       "      <td>...</td>\n",
       "      <td>...</td>\n",
       "      <td>...</td>\n",
       "      <td>...</td>\n",
       "      <td>...</td>\n",
       "      <td>...</td>\n",
       "      <td>...</td>\n",
       "    </tr>\n",
       "    <tr>\n",
       "      <th>199.4</th>\n",
       "      <td>1.249817</td>\n",
       "      <td>0.747273</td>\n",
       "      <td>0.747273</td>\n",
       "      <td>1.752362</td>\n",
       "      <td>2.499635</td>\n",
       "      <td>-1.524592e-11</td>\n",
       "      <td>1.752362</td>\n",
       "    </tr>\n",
       "    <tr>\n",
       "      <th>199.6</th>\n",
       "      <td>1.249817</td>\n",
       "      <td>0.747273</td>\n",
       "      <td>0.747273</td>\n",
       "      <td>1.752362</td>\n",
       "      <td>2.499635</td>\n",
       "      <td>-1.553063e-11</td>\n",
       "      <td>1.752362</td>\n",
       "    </tr>\n",
       "    <tr>\n",
       "      <th>199.8</th>\n",
       "      <td>1.249817</td>\n",
       "      <td>0.747273</td>\n",
       "      <td>0.747273</td>\n",
       "      <td>1.752362</td>\n",
       "      <td>2.499635</td>\n",
       "      <td>-1.573264e-11</td>\n",
       "      <td>1.752362</td>\n",
       "    </tr>\n",
       "    <tr>\n",
       "      <th>200.0</th>\n",
       "      <td>1.249817</td>\n",
       "      <td>0.747273</td>\n",
       "      <td>0.747273</td>\n",
       "      <td>1.752362</td>\n",
       "      <td>2.499635</td>\n",
       "      <td>-1.584138e-11</td>\n",
       "      <td>1.752362</td>\n",
       "    </tr>\n",
       "    <tr>\n",
       "      <th>1000.0</th>\n",
       "      <td>1.249817</td>\n",
       "      <td>0.747273</td>\n",
       "      <td>0.747273</td>\n",
       "      <td>1.752362</td>\n",
       "      <td>2.499635</td>\n",
       "      <td>-5.065948e-13</td>\n",
       "      <td>1.752362</td>\n",
       "    </tr>\n",
       "  </tbody>\n",
       "</table>\n",
       "<p>1002 rows × 7 columns</p>\n",
       "</div>"
      ],
      "text/plain": [
       "        v_HK_PFK    v_P2GM  v_P2Gase      v_PGK   v_PK_LDH          v_AK  \\\n",
       "0.0     0.026678  7.498062  0.749930  70.634036  10.234118 -3.312250e+00   \n",
       "0.2     0.415315  0.145530  0.730280   0.684772   1.403905  1.337436e-01   \n",
       "0.4     0.594841  0.221351  0.714190   0.968107   1.676361  3.564392e-01   \n",
       "0.6     0.776975  0.293205  0.700658   1.260489   1.954200  3.974461e-01   \n",
       "0.8     0.977512  0.378916  0.689851   1.575802   2.257269  4.163105e-01   \n",
       "...          ...       ...       ...        ...        ...           ...   \n",
       "199.4   1.249817  0.747273  0.747273   1.752362   2.499635 -1.524592e-11   \n",
       "199.6   1.249817  0.747273  0.747273   1.752362   2.499635 -1.553063e-11   \n",
       "199.8   1.249817  0.747273  0.747273   1.752362   2.499635 -1.573264e-11   \n",
       "200.0   1.249817  0.747273  0.747273   1.752362   2.499635 -1.584138e-11   \n",
       "1000.0  1.249817  0.747273  0.747273   1.752362   2.499635 -5.065948e-13   \n",
       "\n",
       "        v_ATPase  \n",
       "0.0     0.145984  \n",
       "0.2     0.583313  \n",
       "0.4     0.708194  \n",
       "0.6     0.827533  \n",
       "0.8     0.964072  \n",
       "...          ...  \n",
       "199.4   1.752362  \n",
       "199.6   1.752362  \n",
       "199.8   1.752362  \n",
       "200.0   1.752362  \n",
       "1000.0  1.752362  \n",
       "\n",
       "[1002 rows x 7 columns]"
      ]
     },
     "execution_count": 15,
     "metadata": {},
     "output_type": "execute_result"
    }
   ],
   "source": [
    "# get fluxes\n",
    "\n",
    "flxs = s.get_fluxes_df()\n",
    "flxs"
   ]
  },
  {
   "cell_type": "markdown",
   "metadata": {},
   "source": [
    "## Calculate the disequilibrium of all reactions: - ln(Q/Keq)"
   ]
  },
  {
   "cell_type": "code",
   "execution_count": 16,
   "metadata": {},
   "outputs": [],
   "source": [
    "# get the steady-state values of the dynamic compounds\n",
    "\n",
    "t_ss, y_ss = s.simulate_to_steady_state()\n",
    "\n",
    "compounds_list = m.get_compounds()\n",
    "\n",
    "c_ss = {}\n",
    "\n",
    "for i in range(len(compounds_list)):\n",
    "    comp = compounds_list[i] \n",
    "    value = y_ss[0, i]/1000  # mM -> M  conversion from mM to M, since all energys are given in kJ/mol\n",
    "    c_ss[comp] = value"
   ]
  },
  {
   "cell_type": "code",
   "execution_count": 17,
   "metadata": {},
   "outputs": [],
   "source": [
    "# get the concentrations of the fixed compounds and convert them from mM to M\n",
    "\n",
    "# define a fuction that divides by 1000 - mM -> M\n",
    "def mM_M(x):\n",
    "    x = x/1000\n",
    "    return x\n",
    "\n",
    "c_Glc = mM_M(p['Glc'])\n",
    "c_Lac = mM_M(p['Lac'])\n",
    "c_NAD = mM_M(p['NAD'])\n",
    "c_NADH = mM_M(p['NADH'])\n",
    "c_Pi = mM_M(p['Pi'])"
   ]
  },
  {
   "cell_type": "code",
   "execution_count": 18,
   "metadata": {},
   "outputs": [
    {
     "name": "stdout",
     "output_type": "stream",
     "text": [
      "Reaction  Mass action ratio\n",
      "HK_PFK:  0.000000000000334\n",
      "PGK   :  175.591062567673134\n",
      "PK_LDH:  954884.100067124818452\n",
      "P2GM  :  9975.060858402806844\n",
      "P2Gase:  0.000003598650826\n",
      "AK    :  0.922485537832481\n",
      "ATPase:  0.000204433873079\n",
      "\n",
      "Reaction  Disequilibrium\n",
      "HK_PFK:  -27.679836254728972\n",
      "PGK   :  -2.416098768473137\n",
      "PK_LDH:  -7.289069217493538\n",
      "P2GM  :  -5.960669760846583\n",
      "P2Gase:  -16.286738039015557\n",
      "AK    :  0.000000000001940\n",
      "ATPase:  -19.831309031389004\n"
     ]
    }
   ],
   "source": [
    "# calculate the mass action ratios of all reaktions and store them in a dictionary\n",
    "Q_HK_PFK = ((c_ss['P13G']**2) * (c_ss['ADP']**2) * (c_NADH**2))/(c_Glc * (c_ss['ATP']**2) * (c_NAD**2) * (c_Pi**2))\n",
    "Q_PGK = (c_ss['PEP'] * c_ss['ATP'])/(c_ss['P13G'] * c_ss['ADP'])\n",
    "Q_PK_LDH = (c_Lac * c_ss['ATP'] * c_NAD)/(c_ss['PEP'] * c_ss['ADP'] * c_NADH)\n",
    "Q_P2GM = (c_ss['P23G'])/(c_ss['P13G'])\n",
    "Q_P2Gase = (c_ss['PEP'] * c_Pi)/(c_ss['P23G'])\n",
    "Q_AK = (c_ss['ADP']**2)/(c_ss['ATP'] * c_ss['AMP'])\n",
    "Q_ATPase = (c_ss['ADP'] * c_Pi)/(c_ss['ATP'])\n",
    "\n",
    "Qs = {\n",
    "    'HK_PFK': Q_HK_PFK,\n",
    "    'PGK': Q_PGK,\n",
    "    'PK_LDH': Q_PK_LDH,\n",
    "    'P2GM': Q_P2GM,\n",
    "    'P2Gase': Q_P2Gase,\n",
    "    'AK': Q_AK,\n",
    "    'ATPase': Q_ATPase,\n",
    "}\n",
    "\n",
    "# get the Keq values and calculate the disequilibrium of each reaction by using the mass action ratios\n",
    "Keqs = {}\n",
    "disequilibrium = {}\n",
    "\n",
    "for name in Qs.keys():\n",
    "    Keq = 'Keq_' + name\n",
    "    Keqs[name] = m.get_parameter(Keq)\n",
    "    value_disequilibrium = math.log(Qs[name]/Keqs[name])\n",
    "    disequilibrium[name] = value_disequilibrium\n",
    "    pass\n",
    "\n",
    "# show the calculated mass action ratios and disequilibria\n",
    "print('Reaction  Mass action ratio')\n",
    "for i in Qs.keys():\n",
    "    print('{reaction:<6s}:  {Q:.15f}'.format(reaction = i, Q = Qs[i]))\n",
    "\n",
    "print()\n",
    "\n",
    "print('Reaction  Disequilibrium')\n",
    "for i in disequilibrium.keys():\n",
    "    print('{reaction:<6s}:  {diseq:.15f}'.format(reaction = i, diseq = disequilibrium[i]))\n"
   ]
  },
  {
   "cell_type": "markdown",
   "metadata": {},
   "source": [
    "### Calculation of the gibbs free energy of reation for all reaction "
   ]
  },
  {
   "cell_type": "code",
   "execution_count": 19,
   "metadata": {},
   "outputs": [
    {
     "name": "stdout",
     "output_type": "stream",
     "text": [
      "Reaction  dGr [kJ/mol]\n",
      "HK_PFK:  -68.613306793094637\n",
      "PGK   :  -5.989071774777688\n",
      "PK_LDH:  -18.068283997545038\n",
      "P2GM  :  -14.775422051978943\n",
      "P2Gase:  -40.371877327808306\n",
      "AK    :  0.000000000004810\n",
      "ATPase:  -49.158227605009564\n"
     ]
    }
   ],
   "source": [
    "dGr_dict = {}\n",
    "\n",
    "RT = m.get_parameter('R') * m.get_parameter('T')\n",
    "\n",
    "for key in disequilibrium.keys():\n",
    "    dGr_dict[key] = RT * disequilibrium[key]\n",
    "\n",
    "print('Reaction  dGr [kJ/mol]')\n",
    "for i in dGr_dict.keys():\n",
    "    print('{reaction:<6s}:  {dGr:.15f}'.format(reaction = i, dGr = dGr_dict[i]))\n"
   ]
  },
  {
   "cell_type": "markdown",
   "metadata": {},
   "source": [
    "#### sum of all gibbs free energys of reaction"
   ]
  },
  {
   "cell_type": "code",
   "execution_count": 20,
   "metadata": {},
   "outputs": [
    {
     "name": "stdout",
     "output_type": "stream",
     "text": [
      "-196.97618955020937 kJ/mol\n"
     ]
    }
   ],
   "source": [
    "# sum of all gibbs free energys of reaction\n",
    "dGr_sum = 0\n",
    "\n",
    "for key in dGr_dict.keys():\n",
    "    dGr_sum = dGr_sum + dGr_dict[key]\n",
    "print(dGr_sum, 'kJ/mol')"
   ]
  },
  {
   "cell_type": "markdown",
   "metadata": {},
   "source": [
    "### Calculation of gibbs free energy disspipation of each reaction over time and per mole glucose"
   ]
  },
  {
   "cell_type": "code",
   "execution_count": 21,
   "metadata": {},
   "outputs": [
    {
     "name": "stdout",
     "output_type": "stream",
     "text": [
      "Reaction  dGr [kJ/h]\n",
      "HK_PFK:  -0.085754110021468\n",
      "PGK   :  -0.010495020562870\n",
      "PK_LDH:  -0.045164114259189\n",
      "P2GM  :  -0.011041276334963\n",
      "P2Gase:  -0.030168820369109\n",
      "AK    :  -0.000000000000000\n",
      "ATPase:  -0.086142999944520\n",
      "\n",
      "          dGr [J/h]\n",
      "HK_PFK:  -85.754110021468165\n",
      "PGK   :  -10.495020562869687\n",
      "PK_LDH:  -45.164114259189184\n",
      "P2GM  :  -11.041276334962845\n",
      "P2Gase:  -30.168820369109216\n",
      "AK    :  -0.000000000000000\n",
      "ATPase:  -86.142999944519815\n",
      "\n",
      "          per mole glucose [kJ/mol]\n",
      "HK_PFK:  -68.613306793094637\n",
      "PGK   :  -8.397242598631612\n",
      "PK_LDH:  -36.136567995730367\n",
      "P2GM  :  -8.834311036153075\n",
      "P2Gase:  -24.138580961929897\n",
      "AK    :  -0.000000000000000\n",
      "ATPase:  -68.924464166104585\n"
     ]
    }
   ],
   "source": [
    "dG_per_time = {}\n",
    "dG_per_Glc = {}\n",
    "\n",
    "fluxes_dict = m.get_fluxes_dict(y_ss)\n",
    "\n",
    "for key in dGr_dict.keys():\n",
    "    key_flux = 'v_' + key    \n",
    "    dG_per_time[key] = dGr_dict[key] * fluxes_dict[key_flux][0]\n",
    "    dG_per_Glc[key] = (dGr_dict[key] * fluxes_dict[key_flux][0])/fluxes_dict['v_HK_PFK'][0]\n",
    "\n",
    "print('Reaction  dGr [kJ/h]')\n",
    "for i in dG_per_time.keys():\n",
    "    print('{reaction:<6s}:  {dGr:.15f}'.format(reaction = i, dGr = dG_per_time[i]/1000))\n",
    "\n",
    "print()\n",
    "print('          dGr [J/h]')\n",
    "for i in dG_per_time.keys():\n",
    "    print('{reaction:<6s}:  {dGr:.15f}'.format(reaction = i, dGr = dG_per_time[i]))\n",
    "\n",
    "print()\n",
    "print('          per mole glucose [kJ/mol]')\n",
    "for i in dG_per_Glc.keys():\n",
    "    print('{reaction:<6s}:  {dGr:.15f}'.format(reaction = i, dGr = dG_per_Glc[i]))"
   ]
  },
  {
   "cell_type": "code",
   "execution_count": 22,
   "metadata": {},
   "outputs": [
    {
     "name": "stdout",
     "output_type": "stream",
     "text": [
      "Total energy disspation over time:\n",
      "-268.7663414921189 J/h\n",
      "\n",
      "Per Mole Glucose:\n",
      "-215.04447355164416 kJ/mol h\n"
     ]
    }
   ],
   "source": [
    "# calculate the sum of energy dissipation per time and per mole glucose\n",
    "dGr_sum_per_time = 0\n",
    "for key in dG_per_time.keys():\n",
    "    dGr_sum_per_time = dGr_sum_per_time + dG_per_time[key]\n",
    "    \n",
    "\n",
    "\n",
    "print('Total energy disspation over time:')\n",
    "print(dGr_sum_per_time, 'J/h')\n",
    "print()\n",
    "print('Per Mole Glucose:')\n",
    "print(dGr_sum_per_time/fluxes_dict['v_HK_PFK'][0], 'kJ/mol h')"
   ]
  },
  {
   "cell_type": "markdown",
   "metadata": {},
   "source": [
    "### Calculation of the overall dG for the macrochemical equation Glc -> 2 Lac  (should be equal to the sum of the single reactions)"
   ]
  },
  {
   "cell_type": "code",
   "execution_count": 23,
   "metadata": {},
   "outputs": [
    {
     "name": "stdout",
     "output_type": "stream",
     "text": [
      "-195.59999999999997 kJ\n"
     ]
    }
   ],
   "source": [
    "# overall standard Gibbs free energy of reaction\n",
    "dGr0_overall = (2 * m.get_parameter('dGf0_Lac')) - m.get_parameter('dGf0_Glc')\n",
    "print(dGr0_overall, 'kJ')"
   ]
  },
  {
   "cell_type": "code",
   "execution_count": 24,
   "metadata": {},
   "outputs": [
    {
     "name": "stdout",
     "output_type": "stream",
     "text": [
      "1.8601337792547067e+34\n"
     ]
    }
   ],
   "source": [
    "# overall equlilibrium constant\n",
    "RT = (m.get_parameter('R')*m.get_parameter('T'))\n",
    "Keq_overall = math.e**(-dGr0_overall/RT)\n",
    "\n",
    "print(Keq_overall)"
   ]
  },
  {
   "cell_type": "code",
   "execution_count": 25,
   "metadata": {},
   "outputs": [
    {
     "name": "stdout",
     "output_type": "stream",
     "text": [
      "0.000392\n"
     ]
    }
   ],
   "source": [
    "# mass action ratio for the used concentrations: Glc = 5mM and Lac = 1.4 mM\n",
    "Q_overall = c_Lac**2 / c_Glc\n",
    "\n",
    "print(Q_overall)"
   ]
  },
  {
   "cell_type": "code",
   "execution_count": 26,
   "metadata": {
    "scrolled": true
   },
   "outputs": [
    {
     "name": "stdout",
     "output_type": "stream",
     "text": [
      "-215.0444735477597 kJ\n"
     ]
    }
   ],
   "source": [
    "# overall gibbs free energy of reaction (dG = RT * ln(Q/Keq))\n",
    "dG_overall = RT * math.log(Q_overall/Keq_overall)\n",
    "print(dG_overall, 'kJ')                                                                   "
   ]
  },
  {
   "cell_type": "code",
   "execution_count": 27,
   "metadata": {},
   "outputs": [
    {
     "name": "stdout",
     "output_type": "stream",
     "text": [
      "-215.04447354775974\n"
     ]
    }
   ],
   "source": [
    "print(dGr0_overall + RT * math.log(Q_overall))"
   ]
  },
  {
   "cell_type": "code",
   "execution_count": 28,
   "metadata": {},
   "outputs": [
    {
     "name": "stdout",
     "output_type": "stream",
     "text": [
      "[-268.76634149]\n"
     ]
    }
   ],
   "source": [
    "dG_overall_per_time = dG_overall * fluxes_dict['v_HK_PFK']\n",
    "print(dG_overall_per_time)"
   ]
  },
  {
   "cell_type": "code",
   "execution_count": 29,
   "metadata": {},
   "outputs": [],
   "source": [
    "dG_per_time_total = 0\n",
    "\n",
    "for key in dG_per_time.keys():\n",
    "    dG_per_time_total = dG_per_time_total + dG_per_time[key]"
   ]
  },
  {
   "cell_type": "code",
   "execution_count": 30,
   "metadata": {},
   "outputs": [
    {
     "name": "stdout",
     "output_type": "stream",
     "text": [
      "-268.7663414921189\n"
     ]
    }
   ],
   "source": [
    "print(dG_per_time_total)"
   ]
  },
  {
   "cell_type": "markdown",
   "metadata": {},
   "source": [
    "### Graphical illustration of the energy dissipation per mole glucose per reaction"
   ]
  },
  {
   "cell_type": "code",
   "execution_count": 31,
   "metadata": {
    "scrolled": false
   },
   "outputs": [
    {
     "data": {
      "image/png": "[encoded data removed]",
      "text/plain": [
       "<Figure size 720x720 with 1 Axes>"
      ]
     },
     "metadata": {
      "needs_background": "light"
     },
     "output_type": "display_data"
    }
   ],
   "source": [
    "glycolytic_flux = fluxes_dict['v_HK_PFK']\n",
    "start = 0\n",
    "step_1 = start + dG_per_Glc['HK_PFK']\n",
    "step_2 = step_1 + dG_per_Glc['P2GM']\n",
    "step_3 = step_2 + dG_per_Glc['P2Gase']\n",
    "step_4 = step_3 + dG_per_Glc['PGK']\n",
    "step_5 = step_4 + dG_per_Glc['PK_LDH']\n",
    "step_6 = step_5 + dG_per_Glc['ATPase']\n",
    "\n",
    "dG_steps = [start, start, step_1, step_1, step_2, step_2, step_3, step_3, step_4, step_4, step_5, step_5, step_6, step_6]\n",
    "timeline = np.linspace(0, len(dG_steps), len(dG_steps))\n",
    "timeline = np.round(timeline, 0)\n",
    "sequence = [1,2,2.01, 3, 3.01, 4, 4.01, 5, 5.01, 6, 6.01, 7, 7.01, 8]\n",
    "\n",
    "plt.figure(figsize=(10,10))\n",
    "frame1 = plt.gca()\n",
    "frame1.axes.get_xaxis().set_visible(False)\n",
    "# frame1.axes.spines['top'].set_visible(False)\n",
    "\n",
    "plt.annotate('1 Glucose', (1,2), size = 16)\n",
    "plt.annotate('HK-PFK', (2.05,-45), size = 16)\n",
    "plt.annotate('P2GM', (3.05,-75.5), size = 16)\n",
    "plt.annotate('P2Gase', (4.05,-92), size = 16)\n",
    "plt.annotate('PGK', (5.05,-108), size = 16)\n",
    "plt.annotate('PK-LDH', (6.05,-131), size = 16)\n",
    "plt.annotate('ATPase', (7.05,-182), size = 16)\n",
    "plt.annotate('2 Lactate', (7.1,-213.3), size = 16)\n",
    "\n",
    "plt.hlines(y = min(dG_steps), xmin = min(sequence), xmax = 6.99,\n",
    "               color = 'b', linestyle = 'dotted')\n",
    "\n",
    "plt.annotate(\"\",\n",
    "            xy=(min(sequence)+0.1, min(dG_steps)), xycoords='data',\n",
    "            xytext=(min(sequence)+0.1, max(dG_steps)), textcoords='data',\n",
    "            arrowprops=dict(arrowstyle=\"<->\",\n",
    "                            connectionstyle=\"arc3\", color='b', lw=1),\n",
    "            )\n",
    "plt.annotate('-215 kJ/mol', (1.15, -124), size = 16)\n",
    "\n",
    "plt.plot(sequence, dG_steps)\n",
    "plt.ylabel('Energy dissipation [kJ/mol]', size = 18)\n",
    "plt.title('Shares in the overall energy gradient', size = 22)\n",
    "#plt.savefig('Shares in the overall energy gradient', bbox_inches='tight')\n",
    "plt.show()"
   ]
  },
  {
   "cell_type": "markdown",
   "metadata": {},
   "source": [
    "## calculation of the efficiency"
   ]
  },
  {
   "cell_type": "code",
   "execution_count": 32,
   "metadata": {},
   "outputs": [
    {
     "name": "stdout",
     "output_type": "stream",
     "text": [
      "Efficiency:\n",
      "0.32051260387099406\n"
     ]
    }
   ],
   "source": [
    "catabolism = dGr_sum_per_time\n",
    "anabolism = dG_per_time['ATPase']\n",
    "\n",
    "efficiency = (anabolism)/catabolism\n",
    "\n",
    "print('Efficiency:')\n",
    "print(efficiency)"
   ]
  },
  {
   "cell_type": "markdown",
   "metadata": {},
   "source": [
    "## Calculation of the efficiency for various k_ATPase values and resulting fluxes of anabolism"
   ]
  },
  {
   "cell_type": "code",
   "execution_count": 33,
   "metadata": {},
   "outputs": [],
   "source": [
    "m.update_parameters(p)\n",
    "\n",
    "k_ATPase_range = np.linspace(0.01, 2.5, 100)\n",
    "\n",
    "efficiencies = []\n",
    "J_As = []\n",
    "\n",
    "for i in range(len(k_ATPase_range)):\n",
    "    # update k_ATPase value\n",
    "    m.update_parameter('k_ATPase', k_ATPase_range[i])\n",
    "    \n",
    "    # simulate to steady state\n",
    "    t_ss_n, y_ss_n = s.simulate_to_steady_state()\n",
    "    \n",
    "    # get steady state concentrations and convert them \n",
    "    compounds_list_n = m.get_compounds()\n",
    "    c_ss_n = {}\n",
    "    for i in range(len(compounds_list_n)):\n",
    "        comp = compounds_list_n[i] \n",
    "        value = y_ss_n[0, i]/1000  # mM -> M\n",
    "        c_ss_n[comp] = value\n",
    "        \n",
    "    # calculate mass-action ratios\n",
    "    Q_n_HK_PFK = ((c_ss_n['P13G']**2) * (c_ss_n['ADP']**2) * (c_NADH**2))/(c_Glc * (c_ss_n['ATP']**2) * (c_NAD**2) * (c_Pi**2))\n",
    "    Q_n_PGK = (c_ss_n['PEP'] * c_ss_n['ATP'])/(c_ss_n['P13G'] * c_ss_n['ADP'])\n",
    "    Q_n_PK_LDH = (c_Lac * c_ss_n['ATP'] * c_NAD)/(c_ss_n['PEP'] * c_ss_n['ADP'] * c_NADH)\n",
    "    Q_n_P2GM = (c_ss_n['P23G'])/(c_ss_n['P13G'])\n",
    "    Q_n_P2Gase = (c_ss_n['PEP'] * c_Pi)/(c_ss_n['P23G'])\n",
    "    Q_n_AK = (c_ss_n['ADP']**2)/(c_ss_n['ATP'] * c_ss_n['AMP'])\n",
    "    Q_n_ATPase = (c_ss_n['ADP'] * c_Pi)/(c_ss_n['ATP'])\n",
    "\n",
    "    Qs_n = {\n",
    "        'HK_PFK': Q_n_HK_PFK,\n",
    "        'PGK': Q_n_PGK,\n",
    "        'PK_LDH': Q_n_PK_LDH,\n",
    "        'P2GM': Q_n_P2GM,\n",
    "        'P2Gase': Q_n_P2Gase,\n",
    "        'AK': Q_n_AK,\n",
    "        'ATPase': Q_n_ATPase,\n",
    "    }\n",
    "    \n",
    "    # calculate disequilibria \n",
    "    disequilibrium_n = {}\n",
    "    \n",
    "    for key in Qs_n.keys():\n",
    "        value_disequilibrium = math.log(Qs_n[key]/Keqs[key])\n",
    "        disequilibrium_n[key] = value_disequilibrium\n",
    "        \n",
    "    # calculate Gibbs free energies of reaction \n",
    "    dGr_dict_n = {}\n",
    "    for key in disequilibrium_n.keys():\n",
    "        dGr = RT * disequilibrium_n[key]\n",
    "        dGr_dict_n[key] = dGr\n",
    "\n",
    "        \n",
    "    # get fluxes\n",
    "    fluxes_dict_n = m.get_fluxes_dict(y_ss_n)\n",
    "    \n",
    "    # get energy dissipations over time\n",
    "    dG_sum_per_time_n = 0\n",
    "    for key in dGr_dict_n.keys():\n",
    "        dGr = dGr_dict_n[key] * fluxes_dict_n['v_'+ key]\n",
    "        dG_sum_per_time_n = dG_sum_per_time_n + dGr\n",
    "    \n",
    "    # calculate efficiency \n",
    "    catabolism_n = dG_sum_per_time_n\n",
    "    \n",
    "    J_A_n = fluxes_dict_n['v_ATPase'][0]\n",
    "    dG_A_n = dGr_dict_n['ATPase'] * (-1)\n",
    "    \n",
    "    efficiency_n = (-J_A_n * dG_A_n)/catabolism\n",
    "    \n",
    "    efficiencies.append(efficiency_n)\n",
    "    J_As.append(J_A_n)\n"
   ]
  },
  {
   "cell_type": "code",
   "execution_count": 34,
   "metadata": {},
   "outputs": [
    {
     "data": {
      "image/png": "[encoded data removed]",
      "text/plain": [
       "<Figure size 576x576 with 1 Axes>"
      ]
     },
     "metadata": {
      "needs_background": "light"
     },
     "output_type": "display_data"
    }
   ],
   "source": [
    "# plot in dependency of k_ATPase\n",
    "\n",
    "plt.figure(figsize=(8,8))\n",
    "plt.plot(k_ATPase_range, efficiencies)\n",
    "plt.scatter(1.46, 0.3205, s=50)\n",
    "plt.xlabel('k_ATPase [h^-1]', size = 14)\n",
    "plt.ylabel('Efficiency', size = 16)\n",
    "plt.title('Efficiencies for various k_ATPase values', size = 20)\n",
    "# plt.savefig('Efficiencies for various k_ATPase values', bbox_inches='tight')\n",
    "plt.show()"
   ]
  },
  {
   "cell_type": "code",
   "execution_count": 35,
   "metadata": {},
   "outputs": [
    {
     "data": {
      "image/png": "[encoded data removed]",
      "text/plain": [
       "<Figure size 576x576 with 1 Axes>"
      ]
     },
     "metadata": {
      "needs_background": "light"
     },
     "output_type": "display_data"
    }
   ],
   "source": [
    "# plot in dependency of the flux of anabolism\n",
    "\n",
    "plt.figure(figsize=(8,8))\n",
    "plt.plot(J_As, efficiencies)\n",
    "plt.scatter(1.752362, 0.3205, s=50)\n",
    "plt.xlabel('J_A [mM/h]', size = 14)\n",
    "plt.ylabel('Efficiency', size = 16)\n",
    "plt.title('Efficiencies for various fluxes of anabolism', size = 20)\n",
    "#plt.savefig('Efficiencies for various fluxes of anabolism', bbox_inches='tight')\n",
    "plt.show()"
   ]
  },
  {
   "cell_type": "markdown",
   "metadata": {},
   "source": [
    "## Calculation of the Efficiency for various k_P2GM values and the resulting flux through the bypass"
   ]
  },
  {
   "cell_type": "code",
   "execution_count": 36,
   "metadata": {},
   "outputs": [],
   "source": [
    "m.update_parameters(p)\n",
    "\n",
    "k_P2GM_range = np.linspace(0.1, 6100, 1000)\n",
    "\n",
    "efficiencies_bypass = []\n",
    "J_P2GM = []\n",
    "\n",
    "\n",
    "for i in range(len(k_P2GM_range)):\n",
    "    # update k_ATPase value\n",
    "    m.update_parameter('k_P2GM', k_P2GM_range[i])\n",
    "    \n",
    "    # simulate to steady state\n",
    "    t_ss_bypass, y_ss_bypass = s.simulate_to_steady_state()\n",
    "    \n",
    "    # get steady state concentrations and convert them \n",
    "    compounds_list_bypass = m.get_compounds()\n",
    "    c_ss_bypass = {}\n",
    "    for i in range(len(compounds_list_bypass)):\n",
    "        comp = compounds_list_bypass[i] \n",
    "        value = y_ss_bypass[0, i]/1000  # mM -> M\n",
    "        c_ss_bypass[comp] = value\n",
    "        \n",
    "    # calculate mass-action ratios\n",
    "    Q_HK_PFK_bypass = ((c_ss_bypass['P13G']**2) * (c_ss_bypass['ADP']**2) * (c_NADH**2))/(c_Glc * (c_ss_bypass['ATP']**2) * (c_NAD**2) * (c_Pi**2))\n",
    "    Q_PGK_bypass = (c_ss_bypass['PEP'] * c_ss_bypass['ATP'])/(c_ss_bypass['P13G'] * c_ss_bypass['ADP'])\n",
    "    Q_PK_LDH_bypass = (c_Lac * c_ss_bypass['ATP'] * c_NAD)/(c_ss_bypass['PEP'] * c_ss_bypass['ADP'] * c_NADH)\n",
    "    Q_P2GM_bypass = (c_ss_bypass['P23G'])/(c_ss_bypass['P13G'])\n",
    "    Q_P2Gase_bypass = (c_ss_bypass['PEP'] * c_Pi)/(c_ss_bypass['P23G'])\n",
    "    Q_AK_bypass = (c_ss_bypass['ADP']**2)/(c_ss_bypass['ATP'] * c_ss_bypass['AMP'])\n",
    "    Q_ATPase_bypass = (c_ss_bypass['ADP'] * c_Pi)/(c_ss_bypass['ATP'])\n",
    "\n",
    "    Qs_bypass = {\n",
    "        'HK_PFK': Q_HK_PFK_bypass,\n",
    "        'PGK': Q_PGK_bypass,\n",
    "        'PK_LDH': Q_PK_LDH_bypass,\n",
    "        'P2GM': Q_P2GM_bypass,\n",
    "        'P2Gase': Q_P2Gase_bypass,\n",
    "        'AK': Q_AK_bypass,\n",
    "        'ATPase': Q_ATPase_bypass,\n",
    "    }\n",
    "    \n",
    "    # calculate disequilibria \n",
    "    disequilibrium_bypass = {}\n",
    "    \n",
    "    for key in Qs_bypass.keys():\n",
    "        value_disequilibrium = math.log(Qs_bypass[key]/Keqs[key])\n",
    "        disequilibrium_bypass[key] = value_disequilibrium\n",
    "        \n",
    "    # calculate Gibbs free energies of reaction \n",
    "    dGr_dict_bypass = {}\n",
    "    for key in disequilibrium_bypass.keys():\n",
    "        dGr = RT * disequilibrium_bypass[key]\n",
    "        dGr_dict_bypass[key] = dGr\n",
    "\n",
    "        \n",
    "    # get fluxes\n",
    "    fluxes_dict_bypass = m.get_fluxes_dict(y_ss_bypass)\n",
    "    \n",
    "    # get energy dissipations over time\n",
    "    dG_sum_per_time_bypass = 0\n",
    "    for key in dGr_dict_bypass.keys():\n",
    "        dGr = dGr_dict_bypass[key] * fluxes_dict_bypass['v_'+ key]\n",
    "        dG_sum_per_time_bypass = dG_sum_per_time_bypass + dGr\n",
    "    \n",
    "    # calculate efficiency \n",
    "    catabolism_bypass = dG_sum_per_time_bypass\n",
    "    \n",
    "    J_A_bypass = fluxes_dict_bypass['v_ATPase'][0]\n",
    "    dG_A_bypass = dGr_dict_bypass['ATPase'] * (-1)\n",
    "    \n",
    "    efficiency_bypass = (-J_A_bypass * dG_A_bypass)/catabolism\n",
    "    \n",
    "    efficiencies_bypass.append(efficiency_bypass)\n",
    "\n",
    "    J_P2GM.append(fluxes_dict_bypass['v_P2GM'])\n",
    "\n",
    "        \n",
    "    \n"
   ]
  },
  {
   "cell_type": "markdown",
   "metadata": {},
   "source": [
    "### See how the flux through the bypass changes in dependency of k_P2GM"
   ]
  },
  {
   "cell_type": "code",
   "execution_count": 37,
   "metadata": {},
   "outputs": [
    {
     "data": {
      "image/png": "[encoded data removed]",
      "text/plain": [
       "<Figure size 576x576 with 1 Axes>"
      ]
     },
     "metadata": {
      "needs_background": "light"
     },
     "output_type": "display_data"
    }
   ],
   "source": [
    "plt.figure(figsize=(8,8))\n",
    "plt.plot(k_P2GM_range, J_P2GM)\n",
    "plt.scatter(1500, 0.747273, s=50)\n",
    "plt.xlabel('k_P2GM [h^-1]', size = 14)\n",
    "plt.ylabel('J_P2GM [mM/h]', size = 16)\n",
    "plt.title('P2GM fluxes for various k_P2GM values', size = 20)\n",
    "# plt.savefig('P2GM fluxes for various k_P2GM values', bbox_inches='tight')\n",
    "plt.show()"
   ]
  },
  {
   "cell_type": "markdown",
   "metadata": {},
   "source": [
    "### plot the efficiency in dependency of k_P2GM and the flux through bypass, i.e. the P2GM"
   ]
  },
  {
   "cell_type": "code",
   "execution_count": 38,
   "metadata": {},
   "outputs": [
    {
     "data": {
      "image/png": "[encoded data removed]",
      "text/plain": [
       "<Figure size 1080x576 with 2 Axes>"
      ]
     },
     "metadata": {
      "needs_background": "light"
     },
     "output_type": "display_data"
    }
   ],
   "source": [
    "fig, (ax1, ax2) = plt.subplots(1, 2, figsize=(15, 8))\n",
    "\n",
    "ax1.plot(k_P2GM_range, efficiencies_bypass)\n",
    "ax1.set_xlabel('k_P2GM [h^-1]', size = 14)\n",
    "ax1.set_ylabel('Efficiency', size = 16)\n",
    "ax1.scatter(1500, 0.3205, s=50)\n",
    "\n",
    "ax2.plot(J_P2GM, efficiencies_bypass)\n",
    "ax2.set_xlabel('J_P2GM [mM/h]', size = 14)\n",
    "ax2.set_ylabel('Efficiency', size = 16)\n",
    "ax2.scatter(0.747273, 0.3205, s=50)\n",
    "\n",
    "ax1.set_title('Efficiency in dependeny of k_P2GM', size = 20)\n",
    "ax2.set_title('Efficiency in dependeny of J_P2GM', size = 20)\n",
    "\n",
    "plt.show()"
   ]
  }
 ],
 "metadata": {
  "kernelspec": {
   "display_name": "Python 3",
   "language": "python",
   "name": "python3"
  },
  "language_info": {
   "codemirror_mode": {
    "name": "ipython",
    "version": 3
   },
   "file_extension": ".py",
   "mimetype": "text/x-python",
   "name": "python",
   "nbconvert_exporter": "python",
   "pygments_lexer": "ipython3",
   "version": "3.8.3"
  }
 },
 "nbformat": 4,
 "nbformat_minor": 4
}
